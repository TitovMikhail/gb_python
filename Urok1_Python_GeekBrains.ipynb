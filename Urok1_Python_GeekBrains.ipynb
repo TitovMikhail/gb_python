{
 "cells": [
  {
   "cell_type": "code",
   "execution_count": 1,
   "id": "99356a8f",
   "metadata": {},
   "outputs": [],
   "source": [
    "# 1. Поработайте с переменными, создайте несколько, выведите на экран, запросите у пользователя несколько чисел\n",
    "# и строк и сохраните в переменные, выведите на экран.\n"
   ]
  },
  {
   "cell_type": "code",
   "execution_count": 2,
   "id": "24bc3698",
   "metadata": {},
   "outputs": [],
   "source": [
    "p1 = 1\n",
    "p2 = 2.1\n",
    "p3 = 'New'"
   ]
  },
  {
   "cell_type": "code",
   "execution_count": 3,
   "id": "2b40ccb6",
   "metadata": {},
   "outputs": [
    {
     "name": "stdout",
     "output_type": "stream",
     "text": [
      "1 2.1 New\n"
     ]
    }
   ],
   "source": [
    "print(p1,p2,p3)"
   ]
  },
  {
   "cell_type": "code",
   "execution_count": 4,
   "id": "9957e37b",
   "metadata": {},
   "outputs": [
    {
     "name": "stdout",
     "output_type": "stream",
     "text": [
      "Введите целое число6\n"
     ]
    }
   ],
   "source": [
    "p4 = int(input('Введите целое число'))"
   ]
  },
  {
   "cell_type": "code",
   "execution_count": 5,
   "id": "07907788",
   "metadata": {},
   "outputs": [
    {
     "name": "stdout",
     "output_type": "stream",
     "text": [
      "Введите строкуString\n"
     ]
    }
   ],
   "source": [
    "p5 = input('Введите строку')"
   ]
  },
  {
   "cell_type": "code",
   "execution_count": 6,
   "id": "ab1d66ca",
   "metadata": {},
   "outputs": [
    {
     "name": "stdout",
     "output_type": "stream",
     "text": [
      "6\n"
     ]
    }
   ],
   "source": [
    "print(p4)"
   ]
  },
  {
   "cell_type": "code",
   "execution_count": 7,
   "id": "68f64d2b",
   "metadata": {},
   "outputs": [
    {
     "name": "stdout",
     "output_type": "stream",
     "text": [
      "String\n"
     ]
    }
   ],
   "source": [
    "print(p5)"
   ]
  },
  {
   "cell_type": "code",
   "execution_count": 8,
   "id": "19c50aef",
   "metadata": {},
   "outputs": [],
   "source": [
    "# 2. Пользователь вводит время в секундах. \n",
    "# Переведите время в часы, минуты и секунды и выведите в формате чч:мм:сс. Используйте форматирование строк."
   ]
  },
  {
   "cell_type": "code",
   "execution_count": 48,
   "id": "efea5a48",
   "metadata": {},
   "outputs": [
    {
     "name": "stdout",
     "output_type": "stream",
     "text": [
      "Введите время в секундах77698\n"
     ]
    }
   ],
   "source": [
    "sec_time = int(input('Введите время в секундах'))"
   ]
  },
  {
   "cell_type": "code",
   "execution_count": 49,
   "id": "cd03f86f",
   "metadata": {},
   "outputs": [],
   "source": [
    "hours = 0\n",
    "mins = 0\n",
    "secs =0"
   ]
  },
  {
   "cell_type": "code",
   "execution_count": 50,
   "id": "b655f354",
   "metadata": {},
   "outputs": [
    {
     "name": "stdout",
     "output_type": "stream",
     "text": [
      "21 : 34 : 58\n"
     ]
    }
   ],
   "source": [
    "if sec_time // 60 > 60:\n",
    "    hours = sec_time // 60 // 60\n",
    "    mins = (sec_time // 60) % 60\n",
    "    secs = sec_time - mins*60 - hours*60*60\n",
    "else:\n",
    "    hours = 0\n",
    "    mins = sec_time // 60\n",
    "    secs = sec_time - mins*60\n",
    "print(f'{hours} : {mins} : {secs}')"
   ]
  },
  {
   "cell_type": "code",
   "execution_count": null,
   "id": "44bc8d19",
   "metadata": {},
   "outputs": [],
   "source": [
    "# 3. Узнайте у пользователя число n. Найдите сумму чисел n + nn + nnn.\n",
    "# Например, пользователь ввёл число 3. Считаем 3 + 33 + 333 = 369."
   ]
  },
  {
   "cell_type": "code",
   "execution_count": 55,
   "id": "31a85411",
   "metadata": {},
   "outputs": [
    {
     "name": "stdout",
     "output_type": "stream",
     "text": [
      "Введите число3\n"
     ]
    }
   ],
   "source": [
    "user_number = input('Введите число')"
   ]
  },
  {
   "cell_type": "code",
   "execution_count": 60,
   "id": "86c257f5",
   "metadata": {},
   "outputs": [],
   "source": [
    "number_2 = int(user_number + user_number)\n",
    "number_3 = int(user_number + user_number + user_number)"
   ]
  },
  {
   "cell_type": "code",
   "execution_count": null,
   "id": "8e1481bf",
   "metadata": {},
   "outputs": [],
   "source": []
  },
  {
   "cell_type": "code",
   "execution_count": 61,
   "id": "42e6ab55",
   "metadata": {},
   "outputs": [],
   "source": [
    "sum_3nums = int(user_number) + int(number_2) + int(number_3)"
   ]
  },
  {
   "cell_type": "code",
   "execution_count": 63,
   "id": "0fd76614",
   "metadata": {},
   "outputs": [
    {
     "name": "stdout",
     "output_type": "stream",
     "text": [
      "369\n"
     ]
    }
   ],
   "source": [
    "print(sum_3nums)"
   ]
  },
  {
   "cell_type": "code",
   "execution_count": 2,
   "id": "bef1c880",
   "metadata": {},
   "outputs": [],
   "source": [
    "# 4. Пользователь вводит целое положительное число. Найдите самую большую цифру в числе.\n",
    "# Для решения используйте цикл while и арифметические операции."
   ]
  },
  {
   "cell_type": "code",
   "execution_count": 44,
   "id": "4c41b57b",
   "metadata": {},
   "outputs": [
    {
     "name": "stdout",
     "output_type": "stream",
     "text": [
      "Введите число:23456\n"
     ]
    }
   ],
   "source": [
    "int_user_num = input('Введите число:')"
   ]
  },
  {
   "cell_type": "code",
   "execution_count": 47,
   "id": "edf63c14",
   "metadata": {},
   "outputs": [
    {
     "name": "stdout",
     "output_type": "stream",
     "text": [
      "6\n"
     ]
    }
   ],
   "source": [
    "max_num = int(int_user_num[0])\n",
    "num = 1\n",
    "while num <= (len(int_user_num) - 1) :\n",
    "    if int(int_user_num[num]) > max_num:\n",
    "        max_num = int(int_user_num[num])\n",
    "        num += 1\n",
    "    else:\n",
    "        num += 1\n",
    "print(max_num)"
   ]
  },
  {
   "cell_type": "code",
   "execution_count": 48,
   "id": "9d5fb2e1",
   "metadata": {},
   "outputs": [],
   "source": [
    "# 5. Запросите у пользователя значения выручки и издержек фирмы.\n",
    "# Определите, с каким финансовым результатом работает фирма\n",
    "# (прибыль — выручка больше издержек, или убыток — издержки больше выручки).\n",
    "# Выведите соответствующее сообщение. Если фирма отработала с прибылью, \n",
    "# вычислите рентабельность выручки (соотношение прибыли к выручке).\n",
    "# Далее запросите численность сотрудников фирмы и определите прибыль фирмы в расчете на одного сотрудника."
   ]
  },
  {
   "cell_type": "code",
   "execution_count": 61,
   "id": "8f129acd",
   "metadata": {},
   "outputs": [
    {
     "name": "stdout",
     "output_type": "stream",
     "text": [
      "Введите значение выручки: 300\n",
      "Введите значение издержек: 134\n",
      "Введите количество сотрудников: 15\n"
     ]
    }
   ],
   "source": [
    "revenue = int(input('Введите значение выручки: '))\n",
    "costs =  int(input('Введите значение издержек: '))\n",
    "hr_count = int(input('Введите количество сотрудников: '))"
   ]
  },
  {
   "cell_type": "code",
   "execution_count": 62,
   "id": "6ea97976",
   "metadata": {},
   "outputs": [
    {
     "name": "stdout",
     "output_type": "stream",
     "text": [
      "Прибыль\n",
      "Рентабельность выручки = 0.5533333333333333\n",
      "Прибыль на 1 сотрудника = 11.066666666666666\n"
     ]
    }
   ],
   "source": [
    "if revenue > costs:\n",
    "    print('Прибыль')\n",
    "    rent = ((revenue - costs) / revenue )\n",
    "    profit_per_count = ((revenue - costs) / hr_count )\n",
    "    print(f'Рентабельность выручки = {rent}')\n",
    "    print(f'Прибыль на 1 сотрудника = {profit_per_count}')\n",
    "elif revenue < costs:\n",
    "     print('Убыток')\n",
    "else:\n",
    "    print('Ноль')"
   ]
  },
  {
   "cell_type": "code",
   "execution_count": 63,
   "id": "b7c35e72",
   "metadata": {},
   "outputs": [],
   "source": [
    "# 6. Спортсмен занимается ежедневными пробежками. В первый день его результат составил a километров.\n",
    "# Каждый день спортсмен увеличивал результат на 10 % относительно предыдущего.\n",
    "# Требуется определить номер дня, на который общий результат спортсмена составить не менее b километров.\n",
    "# Программа должна принимать значения параметров a и b и выводить одно натуральное число — номер дня.\n",
    "# Например: a = 2, b = 3.\n",
    "# Результат:\n",
    "# 1-й день: 2\n",
    "# 2-й день: 2,2\n",
    "# 3-й день: 2,42\n",
    "# 4-й день: 2,66\n",
    "# 5-й день: 2,93\n",
    "# 6-й день: 3,22\n",
    "# Ответ: на 6-й день спортсмен достиг результата — не менее 3 км."
   ]
  },
  {
   "cell_type": "code",
   "execution_count": 40,
   "id": "b7fa23c0",
   "metadata": {},
   "outputs": [
    {
     "name": "stdout",
     "output_type": "stream",
     "text": [
      "Введите результат 1-ого дня: 2\n",
      "Введите какого результата необходимо достичь: 3\n"
     ]
    }
   ],
   "source": [
    "first_result = int(input('Введите результат 1-ого дня: '))\n",
    "target_result = int(input('Введите какого результата необходимо достичь: '))"
   ]
  },
  {
   "cell_type": "code",
   "execution_count": 41,
   "id": "be0e3ea6",
   "metadata": {},
   "outputs": [
    {
     "name": "stdout",
     "output_type": "stream",
     "text": [
      "Ответ: на 6-й день спортсмен достиг результата — не менее 3 км\n"
     ]
    }
   ],
   "source": [
    "massive_results = []\n",
    "result = first_result\n",
    "while result < target_result:\n",
    "    result *=1.1\n",
    "    massive_results.append(result)\n",
    "day = len(massive_results) + 1\n",
    "print(f'Ответ: на {day}-й день спортсмен достиг результата — не менее {target_result} км')\n",
    "    "
   ]
  },
  {
   "cell_type": "code",
   "execution_count": null,
   "id": "e0951cd9",
   "metadata": {},
   "outputs": [],
   "source": []
  }
 ],
 "metadata": {
  "kernelspec": {
   "display_name": "Python 3",
   "language": "python",
   "name": "python3"
  },
  "language_info": {
   "codemirror_mode": {
    "name": "ipython",
    "version": 3
   },
   "file_extension": ".py",
   "mimetype": "text/x-python",
   "name": "python",
   "nbconvert_exporter": "python",
   "pygments_lexer": "ipython3",
   "version": "3.8.8"
  }
 },
 "nbformat": 4,
 "nbformat_minor": 5
}
